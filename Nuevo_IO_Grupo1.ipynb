{
  "nbformat": 4,
  "nbformat_minor": 0,
  "metadata": {
    "colab": {
      "provenance": [],
      "toc_visible": true,
      "authorship_tag": "ABX9TyPrCO6kQDWLb0lzGx+ys8W3",
      "include_colab_link": true
    },
    "kernelspec": {
      "name": "python3",
      "display_name": "Python 3"
    },
    "language_info": {
      "name": "python"
    }
  },
  "cells": [
    {
      "cell_type": "markdown",
      "metadata": {
        "id": "view-in-github",
        "colab_type": "text"
      },
      "source": [
        "<a href=\"https://colab.research.google.com/github/Jucatt/Taller00-Jucatt/blob/main/Nuevo_IO_Grupo1.ipynb\" target=\"_parent\"><img src=\"https://colab.research.google.com/assets/colab-badge.svg\" alt=\"Open In Colab\"/></a>"
      ]
    },
    {
      "cell_type": "markdown",
      "source": [
        "# Taller 00\n"
      ],
      "metadata": {
        "id": "w66uXlJQzcxj"
      }
    },
    {
      "cell_type": "markdown",
      "source": [
        "## Primer Hola mundo"
      ],
      "metadata": {
        "id": "0Z5q0WW2z1tr"
      }
    },
    {
      "cell_type": "code",
      "execution_count": 3,
      "metadata": {
        "colab": {
          "base_uri": "https://localhost:8080/"
        },
        "id": "dvFZWjwwyJ9b",
        "outputId": "37d29233-9a22-4c6c-c9d6-9a71e993fa0e"
      },
      "outputs": [
        {
          "output_type": "stream",
          "name": "stdout",
          "text": [
            "Hola mundo\n"
          ]
        }
      ],
      "source": [
        "print(\"Hola mundo\")\n",
        "\n",
        "\n"
      ]
    }
  ]
}